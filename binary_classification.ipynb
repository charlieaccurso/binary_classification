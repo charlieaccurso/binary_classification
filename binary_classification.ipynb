{
 "cells": [
  {
   "cell_type": "markdown",
   "id": "413d9ea5",
   "metadata": {},
   "source": [
    "# Binary Classification using Neural Networks"
   ]
  },
  {
   "cell_type": "markdown",
   "id": "fca7a220",
   "metadata": {},
   "source": [
    "## 3.4.1 The IMDB dataset"
   ]
  },
  {
   "cell_type": "code",
   "execution_count": 1,
   "id": "4da5f9c3",
   "metadata": {},
   "outputs": [
    {
     "name": "stderr",
     "output_type": "stream",
     "text": [
      "2023-02-26 20:48:25.539821: I tensorflow/core/platform/cpu_feature_guard.cc:182] This TensorFlow binary is optimized to use available CPU instructions in performance-critical operations.\n",
      "To enable the following instructions: AVX2 FMA, in other operations, rebuild TensorFlow with the appropriate compiler flags.\n"
     ]
    }
   ],
   "source": [
    "# Download the data and assign train and test sets\n",
    "from keras.datasets import imdb\n",
    "(train_data, train_labels), (test_data, test_labels) = imdb.load_data(\n",
    "num_words=10000)"
   ]
  },
  {
   "cell_type": "code",
   "execution_count": 2,
   "id": "0ff1e0e9",
   "metadata": {},
   "outputs": [],
   "source": [
    "# train_data and test_data are each a list of lists\n",
    "# train_data = [[sequence], [sequence], ...]\n",
    "# the inner lists are lists of word indices\n",
    "# train_data[0] => [1, 14, ..., 32]\n",
    "# train_labels and test_labels are lists of 1's and 0's corresponding to review sentiment."
   ]
  },
  {
   "cell_type": "markdown",
   "id": "3f96dc97",
   "metadata": {},
   "source": [
    "## 3.4.2 Preparing the Data"
   ]
  },
  {
   "cell_type": "code",
   "execution_count": 3,
   "id": "0189b1af",
   "metadata": {},
   "outputs": [],
   "source": [
    "# turn our training and testing data into tensors\n",
    "# tensors will be of length 10000, and each word index will be marked with 1's, all others with 0's."
   ]
  },
  {
   "cell_type": "code",
   "execution_count": 4,
   "id": "9b22a8c8",
   "metadata": {},
   "outputs": [],
   "source": [
    "import numpy as np\n",
    "\n",
    "def vectorize_sequences(sequences, dimension=10000):\n",
    "    results= np.zeros((len(sequences), dimension))\n",
    "    for i, sequence in enumerate(sequences):\n",
    "        results[i, sequence]= 1\n",
    "    return results"
   ]
  },
  {
   "cell_type": "code",
   "execution_count": 5,
   "id": "b4fcdf28",
   "metadata": {},
   "outputs": [],
   "source": [
    "# x_train and x_test are now OHE vectors \n",
    "x_train= vectorize_sequences(train_data)\n",
    "x_test= vectorize_sequences(test_data)"
   ]
  },
  {
   "cell_type": "code",
   "execution_count": 6,
   "id": "09b80dce",
   "metadata": {},
   "outputs": [],
   "source": [
    "# vectorize labels\n",
    "y_train= np.asarray(train_labels).astype('float32')\n",
    "y_test= np.asarray(test_labels).astype('float32')"
   ]
  },
  {
   "cell_type": "markdown",
   "id": "d8ae72b1",
   "metadata": {},
   "source": [
    "## 3.4.3 Building the Neural Network (Model)"
   ]
  },
  {
   "cell_type": "code",
   "execution_count": 7,
   "id": "6e194b03",
   "metadata": {},
   "outputs": [],
   "source": [
    "# summary: input data are OHE vectors, target data are scalars\n",
    "# need a simple stack of fully connected Dense layers with relu activations\n",
    "# each Dense layer is instantiated as Dense(16, activation='relu')\n",
    "# the argument 16 represents the number of neurons in each layer (the number of 'hidden units').\n",
    "# a hidden unit is a dimension in the representation space of a layer\n",
    "# the number of neurons is NOT equivalent to the number of weights.\n",
    "# Dense layers with relu activations implement the following tensor operation chain:\n",
    "# output= relu(dot(W, input) + b)\n",
    "# having 16 hidden units (neurons) means W will have shape (input_dimension, 16)\n",
    "# the dot product with W projects the input tensor onto a 16-D space, then the bias and relu are applied."
   ]
  },
  {
   "cell_type": "code",
   "execution_count": 8,
   "id": "102f1d23",
   "metadata": {},
   "outputs": [],
   "source": [
    "from keras import models\n",
    "from keras import layers\n",
    "model = models.Sequential()\n",
    "model.add(layers.Dense(16, activation='relu', input_shape=(10000,)))\n",
    "model.add(layers.Dense(16, activation='relu'))\n",
    "model.add(layers.Dense(1, activation='sigmoid'))"
   ]
  },
  {
   "cell_type": "markdown",
   "id": "acac9ff0",
   "metadata": {},
   "source": [
    "### Compiling the model"
   ]
  },
  {
   "cell_type": "code",
   "execution_count": 9,
   "id": "0e1b3752",
   "metadata": {},
   "outputs": [],
   "source": [
    "from keras import optimizers\n",
    "from keras import losses\n",
    "from keras import metrics\n",
    "model.compile(\n",
    "    optimizer='rmsprop',\n",
    "    loss='binary_crossentropy',\n",
    "    metrics=['acc']\n",
    ")"
   ]
  },
  {
   "cell_type": "markdown",
   "id": "2906fe08",
   "metadata": {},
   "source": [
    "## 3.4.4 Validating the Approach"
   ]
  },
  {
   "cell_type": "code",
   "execution_count": 10,
   "id": "b463a817",
   "metadata": {},
   "outputs": [],
   "source": [
    "# set aside validation set from training data\n",
    "x_val = x_train[:10000]\n",
    "partial_x_train = x_train[10000:]\n",
    "y_val = y_train[:10000]\n",
    "partial_y_train = y_train[10000:]"
   ]
  },
  {
   "cell_type": "code",
   "execution_count": 11,
   "id": "a3d91b9c",
   "metadata": {},
   "outputs": [
    {
     "name": "stdout",
     "output_type": "stream",
     "text": [
      "Epoch 1/20\n",
      "30/30 [==============================] - 1s 26ms/step - loss: 0.5373 - acc: 0.7777 - val_loss: 0.4229 - val_acc: 0.8543\n",
      "Epoch 2/20\n",
      "30/30 [==============================] - 0s 13ms/step - loss: 0.3380 - acc: 0.8907 - val_loss: 0.3536 - val_acc: 0.8530\n",
      "Epoch 3/20\n",
      "30/30 [==============================] - 0s 13ms/step - loss: 0.2520 - acc: 0.9185 - val_loss: 0.2889 - val_acc: 0.8881\n",
      "Epoch 4/20\n",
      "30/30 [==============================] - 0s 12ms/step - loss: 0.2044 - acc: 0.9324 - val_loss: 0.2938 - val_acc: 0.8813\n",
      "Epoch 5/20\n",
      "30/30 [==============================] - 0s 12ms/step - loss: 0.1699 - acc: 0.9449 - val_loss: 0.2951 - val_acc: 0.8830\n",
      "Epoch 6/20\n",
      "30/30 [==============================] - 0s 12ms/step - loss: 0.1466 - acc: 0.9533 - val_loss: 0.2901 - val_acc: 0.8833\n",
      "Epoch 7/20\n",
      "30/30 [==============================] - 0s 12ms/step - loss: 0.1277 - acc: 0.9590 - val_loss: 0.2936 - val_acc: 0.8869\n",
      "Epoch 8/20\n",
      "30/30 [==============================] - 0s 12ms/step - loss: 0.1104 - acc: 0.9671 - val_loss: 0.3201 - val_acc: 0.8760\n",
      "Epoch 9/20\n",
      "30/30 [==============================] - 0s 12ms/step - loss: 0.0963 - acc: 0.9719 - val_loss: 0.3160 - val_acc: 0.8832\n",
      "Epoch 10/20\n",
      "30/30 [==============================] - 0s 12ms/step - loss: 0.0843 - acc: 0.9762 - val_loss: 0.3336 - val_acc: 0.8789\n",
      "Epoch 11/20\n",
      "30/30 [==============================] - 0s 12ms/step - loss: 0.0694 - acc: 0.9831 - val_loss: 0.3962 - val_acc: 0.8659\n",
      "Epoch 12/20\n",
      "30/30 [==============================] - 0s 12ms/step - loss: 0.0615 - acc: 0.9853 - val_loss: 0.3783 - val_acc: 0.8793\n",
      "Epoch 13/20\n",
      "30/30 [==============================] - 0s 12ms/step - loss: 0.0536 - acc: 0.9874 - val_loss: 0.4022 - val_acc: 0.8711\n",
      "Epoch 14/20\n",
      "30/30 [==============================] - 0s 12ms/step - loss: 0.0468 - acc: 0.9890 - val_loss: 0.4141 - val_acc: 0.8763\n",
      "Epoch 15/20\n",
      "30/30 [==============================] - 0s 12ms/step - loss: 0.0379 - acc: 0.9923 - val_loss: 0.4408 - val_acc: 0.8721\n",
      "Epoch 16/20\n",
      "30/30 [==============================] - 0s 12ms/step - loss: 0.0312 - acc: 0.9951 - val_loss: 0.5211 - val_acc: 0.8656\n",
      "Epoch 17/20\n",
      "30/30 [==============================] - 0s 12ms/step - loss: 0.0293 - acc: 0.9947 - val_loss: 0.4863 - val_acc: 0.8699\n",
      "Epoch 18/20\n",
      "30/30 [==============================] - 0s 12ms/step - loss: 0.0257 - acc: 0.9957 - val_loss: 0.5203 - val_acc: 0.8721\n",
      "Epoch 19/20\n",
      "30/30 [==============================] - 0s 12ms/step - loss: 0.0219 - acc: 0.9959 - val_loss: 0.5300 - val_acc: 0.8703\n",
      "Epoch 20/20\n",
      "30/30 [==============================] - 0s 12ms/step - loss: 0.0164 - acc: 0.9984 - val_loss: 0.5528 - val_acc: 0.8705\n"
     ]
    }
   ],
   "source": [
    "# training the model (batches and epochs)\n",
    "history = model.fit(\n",
    "    partial_x_train,\n",
    "    partial_y_train,\n",
    "    epochs=20,\n",
    "    batch_size=512,\n",
    "    validation_data=(x_val, y_val)\n",
    ")"
   ]
  },
  {
   "cell_type": "code",
   "execution_count": 36,
   "id": "70a658ec",
   "metadata": {
    "scrolled": false
   },
   "outputs": [
    {
     "data": {
      "image/png": "[encoded data removed]",
      "text/plain": [
       "<Figure size 640x480 with 1 Axes>"
      ]
     },
     "metadata": {},
     "output_type": "display_data"
    }
   ],
   "source": [
    "# import matplotlib.pyplot as plt\n",
    "history_dict = history.history\n",
    "loss_values = history_dict['loss']\n",
    "val_loss_values = history_dict['val_loss']\n",
    "acc_values= history_dict['acc']\n",
    "epochs = range(1, len(acc_values)+1)\n",
    "plt.plot(epochs, loss_values, 'bo', label='Training loss')\n",
    "plt.plot(epochs, val_loss_values, 'b', label='Validation loss')\n",
    "plt.title('Training and validation loss')\n",
    "plt.xlabel('Epochs')\n",
    "plt.ylabel('Loss')\n",
    "plt.legend()\n",
    "plt.show()"
   ]
  },
  {
   "cell_type": "code",
   "execution_count": 37,
   "id": "4a6bace7",
   "metadata": {},
   "outputs": [
    {
     "data": {
      "image/png": "[encoded data removed]",
      "text/plain": [
       "<Figure size 640x480 with 1 Axes>"
      ]
     },
     "metadata": {},
     "output_type": "display_data"
    }
   ],
   "source": [
    "plt.clf()\n",
    "val_acc_values = history_dict['val_acc']\n",
    "plt.plot(epochs, acc_values, 'bo', label='Training acc')\n",
    "plt.plot(epochs, val_acc_values, 'b', label='Validation acc')\n",
    "plt.title('Training and validation accuracy')\n",
    "plt.xlabel('Epochs')\n",
    "plt.ylabel('Loss')\n",
    "plt.legend()\n",
    "plt.show()"
   ]
  },
  {
   "cell_type": "code",
   "execution_count": 38,
   "id": "46b2a75c",
   "metadata": {},
   "outputs": [
    {
     "name": "stdout",
     "output_type": "stream",
     "text": [
      "Epoch 1/4\n",
      "49/49 [==============================] - 1s 9ms/step - loss: 0.4831 - accuracy: 0.8068\n",
      "Epoch 2/4\n",
      "49/49 [==============================] - 0s 8ms/step - loss: 0.2853 - accuracy: 0.9010\n",
      "Epoch 3/4\n",
      "49/49 [==============================] - 0s 8ms/step - loss: 0.2181 - accuracy: 0.9220\n",
      "Epoch 4/4\n",
      "49/49 [==============================] - 0s 8ms/step - loss: 0.1848 - accuracy: 0.9330\n",
      "782/782 [==============================] - 1s 1ms/step - loss: 0.2910 - accuracy: 0.8839\n"
     ]
    }
   ],
   "source": [
    "# Retraining model from scratch with fewer epochs\n",
    "model = models.Sequential()\n",
    "model.add(layers.Dense(16, activation='relu', input_shape=(10000,)))\n",
    "model.add(layers.Dense(16, activation='relu'))\n",
    "model.add(layers.Dense(1, activation='sigmoid'))\n",
    "model.compile(optimizer='rmsprop',\n",
    "loss='binary_crossentropy',\n",
    "metrics=['accuracy'])\n",
    "model.fit(x_train, y_train, epochs=4, batch_size=512)\n",
    "results = model.evaluate(x_test, y_test)"
   ]
  },
  {
   "cell_type": "code",
   "execution_count": 39,
   "id": "4f0218a4",
   "metadata": {},
   "outputs": [
    {
     "name": "stdout",
     "output_type": "stream",
     "text": [
      "[0.2910289466381073, 0.8839200139045715]\n"
     ]
    }
   ],
   "source": [
    "print(results)"
   ]
  },
  {
   "cell_type": "markdown",
   "id": "c3efafeb",
   "metadata": {},
   "source": [
    "This fairly naive approach achieves an accuracy of 88%. "
   ]
  },
  {
   "cell_type": "markdown",
   "id": "4fc77a86",
   "metadata": {},
   "source": [
    "## 3.4.5 Predict test targets using trained network"
   ]
  },
  {
   "cell_type": "code",
   "execution_count": 41,
   "id": "23b950a9",
   "metadata": {},
   "outputs": [
    {
     "name": "stdout",
     "output_type": "stream",
     "text": [
      "782/782 [==============================] - 1s 1ms/step\n"
     ]
    },
    {
     "data": {
      "text/plain": [
       "array([[0.22716421],\n",
       "       [0.9989371 ],\n",
       "       [0.9462872 ],\n",
       "       ...,\n",
       "       [0.10941366],\n",
       "       [0.10581814],\n",
       "       [0.5574689 ]], dtype=float32)"
      ]
     },
     "execution_count": 41,
     "metadata": {},
     "output_type": "execute_result"
    }
   ],
   "source": [
    "model.predict(x_test)"
   ]
  },
  {
   "cell_type": "markdown",
   "id": "a69e3397",
   "metadata": {},
   "source": [
    "Further options to consider:\n",
    "- use one or three hidden layers instead of two.\n",
    "- use 32 or 64 neurons (hidden units) instead of 16.\n",
    "- use the mse loss function instead of binary_crossentropy.\n",
    "- use tanh activation function instead of relu."
   ]
  },
  {
   "cell_type": "code",
   "execution_count": null,
   "id": "1f3fc5c1",
   "metadata": {},
   "outputs": [],
   "source": []
  }
 ],
 "metadata": {
  "kernelspec": {
   "display_name": "Python 3 (ipykernel)",
   "language": "python",
   "name": "python3"
  },
  "language_info": {
   "codemirror_mode": {
    "name": "ipython",
    "version": 3
   },
   "file_extension": ".py",
   "mimetype": "text/x-python",
   "name": "python",
   "nbconvert_exporter": "python",
   "pygments_lexer": "ipython3",
   "version": "3.11.2"
  }
 },
 "nbformat": 4,
 "nbformat_minor": 5
}
